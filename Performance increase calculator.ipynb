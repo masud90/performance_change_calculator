{
 "cells": [
  {
   "cell_type": "markdown",
   "id": "d815186f",
   "metadata": {},
   "source": [
    "# Performance Increase Calculator\n",
    "Have you wondered how much better can you perform at studies/ work / hobbies if you just were able to pour 1% more everyday? Try this interactive notebook to check what your performance could look like if you added x% more effort in n number of days."
   ]
  },
  {
   "cell_type": "code",
   "execution_count": 1,
   "id": "3128d962",
   "metadata": {
    "scrolled": true
   },
   "outputs": [],
   "source": [
    "# Import necessary packages\n",
    "import pandas as pd\n",
    "import matplotlib.pyplot as plt\n",
    "\n",
    "#Define the function to output the \n",
    "def performance_change(x, n):\n",
    "    \"\"\"This function iterates through the range of 1 to n and then raises x to the power of n. It then creates a dictionary of the key n and new result.\n",
    "    It then returns the dictionary. It will also plot a line chart showing your progress over time as well as a comparison line for if your performance stayed constant\n",
    "    \"\"\"\n",
    "    # create an empty dictionary\n",
    "    performance_dict = {}\n",
    "    x += 100\n",
    "    # iterate through the range of 1 to n and raise x to the power of iterated number\n",
    "    for i in range(1, n + 1):\n",
    "        performance_dict[i] = (x/100) ** i\n",
    "        # convert the dictionary to a dataframe\n",
    "    df = pd.DataFrame.from_dict(performance_dict, orient='index')\n",
    "    # Add a new column to dataframe with the value of 1\n",
    "    df['constantly 100%'] = 1\n",
    "    # Rename df column names from '0' to 'change in performance'\n",
    "    df.rename(columns={0: 'Change in performance'}, inplace=True)\n",
    "    # Rename index name in df to \"Days\"\n",
    "    df.index.name = \"Days\"\n",
    "    # convert all float types in df to 2 decimal place integers\n",
    "    df = df.round(2)\n",
    "    print(df)\n",
    "    # create a figure object\n",
    "    fig, ax = plt.subplots()\n",
    "    # plot a line graph of the dataframe df with the x axis as the index and the y axis as the values of i and j\n",
    "    ax.plot(df.index, df.values)\n",
    "    # set the x axis label\n",
    "    ax.set_xlabel('Number of days')\n",
    "    # set the y axis label\n",
    "    ax.set_ylabel('Performance')   \n",
    "    # show the plot\n",
    "    plt.show()\n",
    "    # Store the value of x-1 in the variable 'effort_change' as a string and round it off to 2 decimal places\n",
    "    effort_change = str(round((x - 100), 2))\n",
    "    # Store the resulting change in performance at the end of period n\n",
    "    performance_change = df.loc[n, 'Change in performance']\n",
    "    # If the value of performance_change is greater than 0, then performance_string is set to \"times better in\", otherwise it is set to \"times worse in\"\n",
    "    if performance_change > 0:\n",
    "        performance_string = \" times better in \"\n",
    "    else:\n",
    "        performance_string = \" times worse in \"\n",
    "    print (\"If you change your effort by \" + effort_change + \"% every day you will perform \" + str(performance_change) + performance_string + str(n) + \" days.\")"
   ]
  },
  {
   "cell_type": "code",
   "execution_count": 2,
   "id": "1dbe3d6c",
   "metadata": {},
   "outputs": [
    {
     "name": "stdout",
     "output_type": "stream",
     "text": [
      "How much would you like to change your effort [Enter your desired percentage increase from 100%, without any percentage sign]: 1\n",
      "How many days would you like to see the performance change over [enter number of days]: 365\n",
      "      Change in performance  constantly 100%\n",
      "Days                                        \n",
      "1                      1.01                1\n",
      "2                      1.02                1\n",
      "3                      1.03                1\n",
      "4                      1.04                1\n",
      "5                      1.05                1\n",
      "...                     ...              ...\n",
      "361                   36.31                1\n",
      "362                   36.67                1\n",
      "363                   37.04                1\n",
      "364                   37.41                1\n",
      "365                   37.78                1\n",
      "\n",
      "[365 rows x 2 columns]\n"
     ]
    },
    {
     "data": {
      "image/png": "[encoded data removed]",
      "text/plain": [
       "<Figure size 432x288 with 1 Axes>"
      ]
     },
     "metadata": {
      "needs_background": "light"
     },
     "output_type": "display_data"
    },
    {
     "name": "stdout",
     "output_type": "stream",
     "text": [
      "If you change your effort by 1% every day you will perform 37.78 times better in 365 days.\n"
     ]
    }
   ],
   "source": [
    "# Seek user input for performance increase and number of days to see change.\n",
    "x = int(input(\"How much would you like to change your effort [Enter your desired percentage increase from 100%, without any percentage sign]: \"))\n",
    "n = int(input(\"How many days would you like to see the performance change over [enter number of days]: \"))\n",
    "\n",
    "performance_change(x, n)"
   ]
  },
  {
   "cell_type": "code",
   "execution_count": null,
   "id": "1f26d5a2",
   "metadata": {},
   "outputs": [],
   "source": []
  }
 ],
 "metadata": {
  "kernelspec": {
   "display_name": "Python 3 (ipykernel)",
   "language": "python",
   "name": "python3"
  },
  "language_info": {
   "codemirror_mode": {
    "name": "ipython",
    "version": 3
   },
   "file_extension": ".py",
   "mimetype": "text/x-python",
   "name": "python",
   "nbconvert_exporter": "python",
   "pygments_lexer": "ipython3",
   "version": "3.9.7"
  }
 },
 "nbformat": 4,
 "nbformat_minor": 5
}
